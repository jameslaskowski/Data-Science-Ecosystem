{
 "cells": [
  {
   "cell_type": "markdown",
   "id": "aca3f40b-9c96-450c-ba37-a0d8a51e0195",
   "metadata": {},
   "source": [
    "# Data Science Tools and Ecosystem"
   ]
  },
  {
   "cell_type": "markdown",
   "id": "6c118cd7-3cce-49e6-8002-8417248ae665",
   "metadata": {},
   "source": [
    "In this notebook, Data Science Tools and Ecosystem are summarized."
   ]
  },
  {
   "cell_type": "markdown",
   "id": "30ef62bc-744e-4638-81d4-1c759616aef3",
   "metadata": {},
   "source": [
    "**Objectives**\n",
    "+ Data Science Languages\n",
    "+ Data Science Libraries\n",
    "+ Data Science Tools\n",
    "+ Arithmetic Expressions"
   ]
  },
  {
   "cell_type": "markdown",
   "id": "3d3720d6-aa41-4a0d-b8f9-575e54125737",
   "metadata": {},
   "source": [
    "Some of the popular languages that Data Scientists use are:\n",
    "|Number|Language|\n",
    "|------|-------------|\n",
    "|1|Python|\n",
    "|2|R Language|\n",
    "|3|SQL|\n",
    "|4|Java|\n",
    "|5|Scala|\n",
    "|6|C++|\n",
    "|7|JavaScript|\n",
    "|8|Julia|"
   ]
  },
  {
   "cell_type": "markdown",
   "id": "81b975e6-19eb-47db-a548-b4e9d7e63b09",
   "metadata": {},
   "source": [
    "Some of the commonly used libraries by Data Scientists include:\n",
    "|Number|Library|\n",
    "|---|---|\n",
    "|1|Pandas|\n",
    "|2|NumPy|\n",
    "|3|Mathplotlib|\n",
    "|4|Seaborn|\n",
    "|5|Scikit-learn|\n",
    "|6|Keras|\n",
    "|7|TensorFlow|\n",
    "|8|PyTorch|\n",
    "|9|Apache Spark|\n",
    "|10|Vegas|\n",
    "|11|BigDL|\n",
    "|12|ggplot2|\n",
    "    "
   ]
  },
  {
   "cell_type": "markdown",
   "id": "3462f2ed-12fd-45a9-96e1-4282d6511b48",
   "metadata": {},
   "source": [
    "|Data Science Tools|\n",
    "|---|\n",
    "|Git|\n",
    "|MySQL|\n",
    "|PostgreSQL|\n",
    "|Jupyter|\n",
    "|Anaconda|\n",
    "|VS Code|\n"
   ]
  },
  {
   "cell_type": "markdown",
   "id": "59dc77ab-9238-4e1a-ba52-f2ee4702b9be",
   "metadata": {},
   "source": [
    "### Below are a few examples of evaluating arithmetic expressions in Python."
   ]
  },
  {
   "cell_type": "code",
   "execution_count": 4,
   "id": "e9602674-4ae7-4369-984b-4ca3b2a0a864",
   "metadata": {},
   "outputs": [
    {
     "data": {
      "text/plain": [
       "17"
      ]
     },
     "execution_count": 4,
     "metadata": {},
     "output_type": "execute_result"
    }
   ],
   "source": [
    "#This is a simple arithmetic expression to multiply the add integers.\n",
    "(3*4)+5"
   ]
  },
  {
   "cell_type": "code",
   "execution_count": 5,
   "id": "1ecaa807-f914-4508-90c2-deb5d9cacac4",
   "metadata": {},
   "outputs": [
    {
     "data": {
      "text/plain": [
       "3.3333333333333335"
      ]
     },
     "execution_count": 5,
     "metadata": {},
     "output_type": "execute_result"
    }
   ],
   "source": [
    "#This will convert 200 minutes to hours by dividing by 60.\n",
    "200/60"
   ]
  },
  {
   "cell_type": "markdown",
   "id": "2c90be25-b4e8-4c1a-a6c7-6770740f389d",
   "metadata": {},
   "source": [
    "## Author\n",
    "James Laskowski"
   ]
  },
  {
   "cell_type": "code",
   "execution_count": null,
   "id": "15bd04a6-c732-4097-8ca7-c5a30bde07b7",
   "metadata": {},
   "outputs": [],
   "source": []
  }
 ],
 "metadata": {
  "kernelspec": {
   "display_name": "Python 3 (ipykernel)",
   "language": "python",
   "name": "python3"
  },
  "language_info": {
   "codemirror_mode": {
    "name": "ipython",
    "version": 3
   },
   "file_extension": ".py",
   "mimetype": "text/x-python",
   "name": "python",
   "nbconvert_exporter": "python",
   "pygments_lexer": "ipython3",
   "version": "3.11.7"
  }
 },
 "nbformat": 4,
 "nbformat_minor": 5
}
